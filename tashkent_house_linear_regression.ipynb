{
 "cells": [
  {
   "cell_type": "markdown",
   "id": "8e305902",
   "metadata": {},
   "source": [
    "<h2 style=\"color:#32642D\">The purpose of the project is to forecast the cost of apartment buildings in Tashkent region.<br>Цель проекта - прогноз стоимости многоквартирных домов в Ташкентской области.<br>Loyihadan ko'zlangan maqsad, Toshkent viloyatidagi ko'pm qavatli uylarning narxini bashorat qilish.</h2>"
   ]
  },
  {
   "cell_type": "markdown",
   "id": "5cba10e7",
   "metadata": {},
   "source": [
    "<p style=\"color:#32642D\"> we can call the libraries we need<br>Вызов набора данных, необходимого для проекта<br>biz uchun zarur kutubxonalarni chaqirib olamiz.</p>"
   ]
  },
  {
   "cell_type": "code",
   "execution_count": 32,
   "id": "7c748c68",
   "metadata": {},
   "outputs": [],
   "source": [
    "import numpy as np\n",
    "import pandas as pd\n",
    "import matplotlib.pyplot as plt"
   ]
  },
  {
   "cell_type": "markdown",
   "id": "8c54df93",
   "metadata": {},
   "source": [
    "<p style=\"color:#32642D\">Loyiha uchun zarur bo'lgan ma'lumotlar to'plamini chaqirish <br> Вызов набора данных, необходимого для проекта <br> Calling the dataset needed for the project</p>"
   ]
  },
  {
   "cell_type": "code",
   "execution_count": 33,
   "id": "e40e7027",
   "metadata": {},
   "outputs": [],
   "source": [
    "url = \"/home/mustafa/programming/data-scince/projects/tashkent_house/tashkent-housing.csv\"\n",
    "df = pd.read_csv(url, index_col=0)"
   ]
  },
  {
   "cell_type": "markdown",
   "id": "0007ab59",
   "metadata": {},
   "source": [
    "<p style=\"color:#32642D\">From the information given about each house, we find the approximate cost using machine learning<br>из предоставленной информации о каждом доме находим примерную стоимость с помощью машинного обучения<br>Har bir uy haqida berilgan ma'lumotlardan, taxminiy narxni machine learning yordamida topamiz</p>\n"
   ]
  },
  {
   "cell_type": "code",
   "execution_count": 34,
   "id": "d7eec493",
   "metadata": {},
   "outputs": [
    {
     "data": {
      "text/html": [
       "<div>\n",
       "<style scoped>\n",
       "    .dataframe tbody tr th:only-of-type {\n",
       "        vertical-align: middle;\n",
       "    }\n",
       "\n",
       "    .dataframe tbody tr th {\n",
       "        vertical-align: top;\n",
       "    }\n",
       "\n",
       "    .dataframe thead th {\n",
       "        text-align: right;\n",
       "    }\n",
       "</style>\n",
       "<table border=\"1\" class=\"dataframe\">\n",
       "  <thead>\n",
       "    <tr style=\"text-align: right;\">\n",
       "      <th></th>\n",
       "      <th>rooms</th>\n",
       "      <th>size</th>\n",
       "      <th>level</th>\n",
       "      <th>max_levels</th>\n",
       "      <th>location</th>\n",
       "      <th>district</th>\n",
       "      <th>price</th>\n",
       "    </tr>\n",
       "  </thead>\n",
       "  <tbody>\n",
       "    <tr>\n",
       "      <th>0</th>\n",
       "      <td>3.0</td>\n",
       "      <td>57.0</td>\n",
       "      <td>4.0</td>\n",
       "      <td>4.0</td>\n",
       "      <td>1.0</td>\n",
       "      <td>1.0</td>\n",
       "      <td>52000.0</td>\n",
       "    </tr>\n",
       "    <tr>\n",
       "      <th>1</th>\n",
       "      <td>2.0</td>\n",
       "      <td>52.0</td>\n",
       "      <td>4.0</td>\n",
       "      <td>5.0</td>\n",
       "      <td>2.0</td>\n",
       "      <td>2.0</td>\n",
       "      <td>56000.0</td>\n",
       "    </tr>\n",
       "    <tr>\n",
       "      <th>2</th>\n",
       "      <td>2.0</td>\n",
       "      <td>42.0</td>\n",
       "      <td>4.0</td>\n",
       "      <td>4.0</td>\n",
       "      <td>3.0</td>\n",
       "      <td>3.0</td>\n",
       "      <td>37000.0</td>\n",
       "    </tr>\n",
       "    <tr>\n",
       "      <th>3</th>\n",
       "      <td>3.0</td>\n",
       "      <td>65.0</td>\n",
       "      <td>1.0</td>\n",
       "      <td>4.0</td>\n",
       "      <td>4.0</td>\n",
       "      <td>3.0</td>\n",
       "      <td>49500.0</td>\n",
       "    </tr>\n",
       "    <tr>\n",
       "      <th>4</th>\n",
       "      <td>3.0</td>\n",
       "      <td>70.0</td>\n",
       "      <td>3.0</td>\n",
       "      <td>5.0</td>\n",
       "      <td>5.0</td>\n",
       "      <td>3.0</td>\n",
       "      <td>55000.0</td>\n",
       "    </tr>\n",
       "    <tr>\n",
       "      <th>...</th>\n",
       "      <td>...</td>\n",
       "      <td>...</td>\n",
       "      <td>...</td>\n",
       "      <td>...</td>\n",
       "      <td>...</td>\n",
       "      <td>...</td>\n",
       "      <td>...</td>\n",
       "    </tr>\n",
       "    <tr>\n",
       "      <th>7560</th>\n",
       "      <td>1.0</td>\n",
       "      <td>38.0</td>\n",
       "      <td>5.0</td>\n",
       "      <td>5.0</td>\n",
       "      <td>876.0</td>\n",
       "      <td>6.0</td>\n",
       "      <td>24500.0</td>\n",
       "    </tr>\n",
       "    <tr>\n",
       "      <th>7561</th>\n",
       "      <td>2.0</td>\n",
       "      <td>49.0</td>\n",
       "      <td>1.0</td>\n",
       "      <td>4.0</td>\n",
       "      <td>264.0</td>\n",
       "      <td>6.0</td>\n",
       "      <td>32000.0</td>\n",
       "    </tr>\n",
       "    <tr>\n",
       "      <th>7562</th>\n",
       "      <td>2.0</td>\n",
       "      <td>64.0</td>\n",
       "      <td>3.0</td>\n",
       "      <td>9.0</td>\n",
       "      <td>738.0</td>\n",
       "      <td>8.0</td>\n",
       "      <td>40000.0</td>\n",
       "    </tr>\n",
       "    <tr>\n",
       "      <th>7563</th>\n",
       "      <td>1.0</td>\n",
       "      <td>18.0</td>\n",
       "      <td>1.0</td>\n",
       "      <td>4.0</td>\n",
       "      <td>120.0</td>\n",
       "      <td>5.0</td>\n",
       "      <td>11000.0</td>\n",
       "    </tr>\n",
       "    <tr>\n",
       "      <th>7564</th>\n",
       "      <td>1.0</td>\n",
       "      <td>30.0</td>\n",
       "      <td>2.0</td>\n",
       "      <td>4.0</td>\n",
       "      <td>6.0</td>\n",
       "      <td>3.0</td>\n",
       "      <td>22914.0</td>\n",
       "    </tr>\n",
       "  </tbody>\n",
       "</table>\n",
       "<p>6853 rows × 7 columns</p>\n",
       "</div>"
      ],
      "text/plain": [
       "      rooms  size  level  max_levels  location  district    price\n",
       "0       3.0  57.0    4.0         4.0       1.0       1.0  52000.0\n",
       "1       2.0  52.0    4.0         5.0       2.0       2.0  56000.0\n",
       "2       2.0  42.0    4.0         4.0       3.0       3.0  37000.0\n",
       "3       3.0  65.0    1.0         4.0       4.0       3.0  49500.0\n",
       "4       3.0  70.0    3.0         5.0       5.0       3.0  55000.0\n",
       "...     ...   ...    ...         ...       ...       ...      ...\n",
       "7560    1.0  38.0    5.0         5.0     876.0       6.0  24500.0\n",
       "7561    2.0  49.0    1.0         4.0     264.0       6.0  32000.0\n",
       "7562    2.0  64.0    3.0         9.0     738.0       8.0  40000.0\n",
       "7563    1.0  18.0    1.0         4.0     120.0       5.0  11000.0\n",
       "7564    1.0  30.0    2.0         4.0       6.0       3.0  22914.0\n",
       "\n",
       "[6853 rows x 7 columns]"
      ]
     },
     "execution_count": 34,
     "metadata": {},
     "output_type": "execute_result"
    }
   ],
   "source": [
    "df"
   ]
  },
  {
   "cell_type": "markdown",
   "id": "4ab3c700",
   "metadata": {},
   "source": [
    "<p style=\"color:#32642D\">Check the general information.<br>проверить общую информацию.<br>Umumiy ma'lumotlarni tekshiramiz.</p>"
   ]
  },
  {
   "cell_type": "code",
   "execution_count": 35,
   "id": "cd59e429",
   "metadata": {},
   "outputs": [
    {
     "name": "stdout",
     "output_type": "stream",
     "text": [
      "<class 'pandas.core.frame.DataFrame'>\n",
      "Int64Index: 6853 entries, 0 to 7564\n",
      "Data columns (total 7 columns):\n",
      " #   Column      Non-Null Count  Dtype  \n",
      "---  ------      --------------  -----  \n",
      " 0   rooms       6853 non-null   float64\n",
      " 1   size        6853 non-null   float64\n",
      " 2   level       6853 non-null   float64\n",
      " 3   max_levels  6853 non-null   float64\n",
      " 4   location    6853 non-null   float64\n",
      " 5   district    6853 non-null   float64\n",
      " 6   price       6853 non-null   float64\n",
      "dtypes: float64(7)\n",
      "memory usage: 428.3 KB\n"
     ]
    }
   ],
   "source": [
    "df.info()\n"
   ]
  },
  {
   "cell_type": "markdown",
   "id": "8b148ea9",
   "metadata": {},
   "source": [
    "<p style=\"color:#32642D\">Now let’s look at the values of each column<br>Теперь давайте посмотрим на значения каждого столбца<br>Har bir ustunning qiymatlarni ko'rib chiqamiz</p>"
   ]
  },
  {
   "cell_type": "code",
   "execution_count": 43,
   "id": "c26931d7",
   "metadata": {},
   "outputs": [
    {
     "name": "stdout",
     "output_type": "stream",
     "text": [
      "count    6853.000000\n",
      "mean        2.618707\n",
      "std         1.056399\n",
      "min         1.000000\n",
      "25%         2.000000\n",
      "50%         3.000000\n",
      "75%         3.000000\n",
      "max         7.000000\n",
      "Name: rooms, dtype: float64\n",
      "\n",
      "count    6853.000000\n",
      "mean       72.074979\n",
      "std        31.429689\n",
      "min        11.000000\n",
      "25%        50.000000\n",
      "50%        66.000000\n",
      "75%        85.000000\n",
      "max       230.000000\n",
      "Name: size, dtype: float64\n",
      "\n",
      "count    6853.000000\n",
      "mean        3.711659\n",
      "std         2.254859\n",
      "min         1.000000\n",
      "25%         2.000000\n",
      "50%         3.000000\n",
      "75%         5.000000\n",
      "max        19.000000\n",
      "Name: level, dtype: float64\n",
      "\n",
      "count    6853.000000\n",
      "mean        6.054721\n",
      "std         2.625109\n",
      "min         1.000000\n",
      "25%         4.000000\n",
      "50%         5.000000\n",
      "75%         9.000000\n",
      "max        25.000000\n",
      "Name: max_levels, dtype: float64\n",
      "\n",
      "count    6853.000000\n",
      "mean      366.320298\n",
      "std       395.730512\n",
      "min         1.000000\n",
      "25%        69.000000\n",
      "50%       205.000000\n",
      "75%       532.000000\n",
      "max      1595.000000\n",
      "Name: location, dtype: float64\n",
      "\n",
      "count    6853.000000\n",
      "mean        4.446812\n",
      "std         2.366761\n",
      "min         1.000000\n",
      "25%         3.000000\n",
      "50%         4.000000\n",
      "75%         6.000000\n",
      "max        12.000000\n",
      "Name: district, dtype: float64\n",
      "\n",
      "count      6853.000000\n",
      "mean      53939.034146\n",
      "std       26889.591927\n",
      "min           0.000000\n",
      "25%       35000.000000\n",
      "50%       46500.000000\n",
      "75%       66000.000000\n",
      "max      150000.000000\n",
      "Name: price, dtype: float64\n",
      "\n"
     ]
    }
   ],
   "source": [
    "for x in df.columns:\n",
    "    print(f\"{df[x].describe()}\\n\")"
   ]
  },
  {
   "cell_type": "markdown",
   "id": "b4dcc0ed",
   "metadata": {},
   "source": [
    "<p style=\"color:#32642D\">Which column the house price depends on is high.<br>От какого столбца зависит цена дома — высокий.<br>Uy narxining qaysi ustunlarga bog'liqligi yuqori.</p>"
   ]
  },
  {
   "cell_type": "code",
   "execution_count": 44,
   "id": "2e567a2c",
   "metadata": {},
   "outputs": [
    {
     "data": {
      "text/plain": [
       "rooms         0.645377\n",
       "size          0.763117\n",
       "level         0.088095\n",
       "max_levels    0.263900\n",
       "location      0.030140\n",
       "district      0.090755\n",
       "price         1.000000\n",
       "dtype: float64"
      ]
     },
     "execution_count": 44,
     "metadata": {},
     "output_type": "execute_result"
    }
   ],
   "source": [
    "df.corrwith(df['price'])"
   ]
  },
  {
   "cell_type": "markdown",
   "id": "a037fbd5",
   "metadata": {},
   "source": [
    "<p style=\"color:#32642D\">Using visualization, we draw a final conclusion about the dataset.<br>Используя визуализацию, мы делаем окончательный вывод о наборе данных.<br>Vizualizatsiya yordamida dataset haqida yakuniy xulosa chiqaram</p>"
   ]
  },
  {
   "cell_type": "code",
   "execution_count": 42,
   "id": "7d107819",
   "metadata": {},
   "outputs": [
    {
     "data": {
      "image/png": "[encoded data removed]",
      "text/plain": [
       "<Figure size 1440x1080 with 9 Axes>"
      ]
     },
     "metadata": {
      "needs_background": "light"
     },
     "output_type": "display_data"
    }
   ],
   "source": [
    "df.hist(bins=50, figsize=(20,15))\n",
    "plt.show()"
   ]
  },
  {
   "cell_type": "markdown",
   "id": "38846b42",
   "metadata": {},
   "source": [
    "<p style=\"color:#32642D\">We divide the data for the model into 2 parts.\n",
    "training 80% and test 20%<br>Делим данные для модели на 2 части.\n",
    "обучение 80% и тестирование 20%<br>Model uchun ma'lumotlarni 2 qismga bo'lib olamiz.\n",
    "training 80% va test 20%</p>\n",
    "\n",
    "\n"
   ]
  },
  {
   "cell_type": "code",
   "execution_count": 45,
   "id": "a561fe58",
   "metadata": {},
   "outputs": [],
   "source": [
    "from sklearn.model_selection import train_test_split"
   ]
  },
  {
   "cell_type": "code",
   "execution_count": 46,
   "id": "2995a495",
   "metadata": {},
   "outputs": [
    {
     "data": {
      "text/html": [
       "<div>\n",
       "<style scoped>\n",
       "    .dataframe tbody tr th:only-of-type {\n",
       "        vertical-align: middle;\n",
       "    }\n",
       "\n",
       "    .dataframe tbody tr th {\n",
       "        vertical-align: top;\n",
       "    }\n",
       "\n",
       "    .dataframe thead th {\n",
       "        text-align: right;\n",
       "    }\n",
       "</style>\n",
       "<table border=\"1\" class=\"dataframe\">\n",
       "  <thead>\n",
       "    <tr style=\"text-align: right;\">\n",
       "      <th></th>\n",
       "      <th>rooms</th>\n",
       "      <th>size</th>\n",
       "      <th>level</th>\n",
       "      <th>max_levels</th>\n",
       "      <th>location</th>\n",
       "      <th>district</th>\n",
       "      <th>price</th>\n",
       "    </tr>\n",
       "  </thead>\n",
       "  <tbody>\n",
       "    <tr>\n",
       "      <th>1970</th>\n",
       "      <td>4.0</td>\n",
       "      <td>135.0</td>\n",
       "      <td>4.0</td>\n",
       "      <td>4.0</td>\n",
       "      <td>38.0</td>\n",
       "      <td>3.0</td>\n",
       "      <td>95000.0</td>\n",
       "    </tr>\n",
       "    <tr>\n",
       "      <th>1402</th>\n",
       "      <td>3.0</td>\n",
       "      <td>70.0</td>\n",
       "      <td>1.0</td>\n",
       "      <td>9.0</td>\n",
       "      <td>46.0</td>\n",
       "      <td>4.0</td>\n",
       "      <td>60000.0</td>\n",
       "    </tr>\n",
       "    <tr>\n",
       "      <th>1138</th>\n",
       "      <td>2.0</td>\n",
       "      <td>52.0</td>\n",
       "      <td>4.0</td>\n",
       "      <td>5.0</td>\n",
       "      <td>19.0</td>\n",
       "      <td>2.0</td>\n",
       "      <td>32000.0</td>\n",
       "    </tr>\n",
       "    <tr>\n",
       "      <th>768</th>\n",
       "      <td>3.0</td>\n",
       "      <td>75.0</td>\n",
       "      <td>2.0</td>\n",
       "      <td>9.0</td>\n",
       "      <td>162.0</td>\n",
       "      <td>5.0</td>\n",
       "      <td>45500.0</td>\n",
       "    </tr>\n",
       "    <tr>\n",
       "      <th>716</th>\n",
       "      <td>2.0</td>\n",
       "      <td>58.0</td>\n",
       "      <td>1.0</td>\n",
       "      <td>5.0</td>\n",
       "      <td>233.0</td>\n",
       "      <td>1.0</td>\n",
       "      <td>58000.0</td>\n",
       "    </tr>\n",
       "    <tr>\n",
       "      <th>6229</th>\n",
       "      <td>2.0</td>\n",
       "      <td>47.0</td>\n",
       "      <td>1.0</td>\n",
       "      <td>4.0</td>\n",
       "      <td>29.0</td>\n",
       "      <td>3.0</td>\n",
       "      <td>33000.0</td>\n",
       "    </tr>\n",
       "    <tr>\n",
       "      <th>2775</th>\n",
       "      <td>2.0</td>\n",
       "      <td>50.0</td>\n",
       "      <td>4.0</td>\n",
       "      <td>4.0</td>\n",
       "      <td>195.0</td>\n",
       "      <td>1.0</td>\n",
       "      <td>33500.0</td>\n",
       "    </tr>\n",
       "    <tr>\n",
       "      <th>4273</th>\n",
       "      <td>3.0</td>\n",
       "      <td>86.0</td>\n",
       "      <td>2.0</td>\n",
       "      <td>5.0</td>\n",
       "      <td>158.0</td>\n",
       "      <td>5.0</td>\n",
       "      <td>57000.0</td>\n",
       "    </tr>\n",
       "    <tr>\n",
       "      <th>1944</th>\n",
       "      <td>1.0</td>\n",
       "      <td>36.0</td>\n",
       "      <td>4.0</td>\n",
       "      <td>4.0</td>\n",
       "      <td>127.0</td>\n",
       "      <td>5.0</td>\n",
       "      <td>21000.0</td>\n",
       "    </tr>\n",
       "    <tr>\n",
       "      <th>7538</th>\n",
       "      <td>2.0</td>\n",
       "      <td>58.0</td>\n",
       "      <td>2.0</td>\n",
       "      <td>4.0</td>\n",
       "      <td>35.0</td>\n",
       "      <td>1.0</td>\n",
       "      <td>40000.0</td>\n",
       "    </tr>\n",
       "  </tbody>\n",
       "</table>\n",
       "</div>"
      ],
      "text/plain": [
       "      rooms   size  level  max_levels  location  district    price\n",
       "1970    4.0  135.0    4.0         4.0      38.0       3.0  95000.0\n",
       "1402    3.0   70.0    1.0         9.0      46.0       4.0  60000.0\n",
       "1138    2.0   52.0    4.0         5.0      19.0       2.0  32000.0\n",
       "768     3.0   75.0    2.0         9.0     162.0       5.0  45500.0\n",
       "716     2.0   58.0    1.0         5.0     233.0       1.0  58000.0\n",
       "6229    2.0   47.0    1.0         4.0      29.0       3.0  33000.0\n",
       "2775    2.0   50.0    4.0         4.0     195.0       1.0  33500.0\n",
       "4273    3.0   86.0    2.0         5.0     158.0       5.0  57000.0\n",
       "1944    1.0   36.0    4.0         4.0     127.0       5.0  21000.0\n",
       "7538    2.0   58.0    2.0         4.0      35.0       1.0  40000.0"
      ]
     },
     "execution_count": 46,
     "metadata": {},
     "output_type": "execute_result"
    }
   ],
   "source": [
    "train_set ,test_set = train_test_split(df, test_size=0.2, random_state=45)\n",
    "train_set.head(10)"
   ]
  },
  {
   "cell_type": "markdown",
   "id": "5538a913",
   "metadata": {},
   "source": [
    "<p style=\"color:#32642D\">We separate the prices and delete them.<br>Мы разделяем цены и удаляем их.<br>Narxlarni ajratib olamiz va o'chirib tashlaymiz.</p>"
   ]
  },
  {
   "cell_type": "code",
   "execution_count": 48,
   "id": "7f2a79ca",
   "metadata": {},
   "outputs": [
    {
     "data": {
      "text/html": [
       "<div>\n",
       "<style scoped>\n",
       "    .dataframe tbody tr th:only-of-type {\n",
       "        vertical-align: middle;\n",
       "    }\n",
       "\n",
       "    .dataframe tbody tr th {\n",
       "        vertical-align: top;\n",
       "    }\n",
       "\n",
       "    .dataframe thead th {\n",
       "        text-align: right;\n",
       "    }\n",
       "</style>\n",
       "<table border=\"1\" class=\"dataframe\">\n",
       "  <thead>\n",
       "    <tr style=\"text-align: right;\">\n",
       "      <th></th>\n",
       "      <th>rooms</th>\n",
       "      <th>size</th>\n",
       "      <th>level</th>\n",
       "      <th>max_levels</th>\n",
       "      <th>location</th>\n",
       "      <th>district</th>\n",
       "    </tr>\n",
       "  </thead>\n",
       "  <tbody>\n",
       "    <tr>\n",
       "      <th>0</th>\n",
       "      <td>3.0</td>\n",
       "      <td>57.0</td>\n",
       "      <td>4.0</td>\n",
       "      <td>4.0</td>\n",
       "      <td>1.0</td>\n",
       "      <td>1.0</td>\n",
       "    </tr>\n",
       "    <tr>\n",
       "      <th>1</th>\n",
       "      <td>2.0</td>\n",
       "      <td>52.0</td>\n",
       "      <td>4.0</td>\n",
       "      <td>5.0</td>\n",
       "      <td>2.0</td>\n",
       "      <td>2.0</td>\n",
       "    </tr>\n",
       "    <tr>\n",
       "      <th>2</th>\n",
       "      <td>2.0</td>\n",
       "      <td>42.0</td>\n",
       "      <td>4.0</td>\n",
       "      <td>4.0</td>\n",
       "      <td>3.0</td>\n",
       "      <td>3.0</td>\n",
       "    </tr>\n",
       "    <tr>\n",
       "      <th>3</th>\n",
       "      <td>3.0</td>\n",
       "      <td>65.0</td>\n",
       "      <td>1.0</td>\n",
       "      <td>4.0</td>\n",
       "      <td>4.0</td>\n",
       "      <td>3.0</td>\n",
       "    </tr>\n",
       "    <tr>\n",
       "      <th>4</th>\n",
       "      <td>3.0</td>\n",
       "      <td>70.0</td>\n",
       "      <td>3.0</td>\n",
       "      <td>5.0</td>\n",
       "      <td>5.0</td>\n",
       "      <td>3.0</td>\n",
       "    </tr>\n",
       "    <tr>\n",
       "      <th>...</th>\n",
       "      <td>...</td>\n",
       "      <td>...</td>\n",
       "      <td>...</td>\n",
       "      <td>...</td>\n",
       "      <td>...</td>\n",
       "      <td>...</td>\n",
       "    </tr>\n",
       "    <tr>\n",
       "      <th>7560</th>\n",
       "      <td>1.0</td>\n",
       "      <td>38.0</td>\n",
       "      <td>5.0</td>\n",
       "      <td>5.0</td>\n",
       "      <td>876.0</td>\n",
       "      <td>6.0</td>\n",
       "    </tr>\n",
       "    <tr>\n",
       "      <th>7561</th>\n",
       "      <td>2.0</td>\n",
       "      <td>49.0</td>\n",
       "      <td>1.0</td>\n",
       "      <td>4.0</td>\n",
       "      <td>264.0</td>\n",
       "      <td>6.0</td>\n",
       "    </tr>\n",
       "    <tr>\n",
       "      <th>7562</th>\n",
       "      <td>2.0</td>\n",
       "      <td>64.0</td>\n",
       "      <td>3.0</td>\n",
       "      <td>9.0</td>\n",
       "      <td>738.0</td>\n",
       "      <td>8.0</td>\n",
       "    </tr>\n",
       "    <tr>\n",
       "      <th>7563</th>\n",
       "      <td>1.0</td>\n",
       "      <td>18.0</td>\n",
       "      <td>1.0</td>\n",
       "      <td>4.0</td>\n",
       "      <td>120.0</td>\n",
       "      <td>5.0</td>\n",
       "    </tr>\n",
       "    <tr>\n",
       "      <th>7564</th>\n",
       "      <td>1.0</td>\n",
       "      <td>30.0</td>\n",
       "      <td>2.0</td>\n",
       "      <td>4.0</td>\n",
       "      <td>6.0</td>\n",
       "      <td>3.0</td>\n",
       "    </tr>\n",
       "  </tbody>\n",
       "</table>\n",
       "<p>6853 rows × 6 columns</p>\n",
       "</div>"
      ],
      "text/plain": [
       "      rooms  size  level  max_levels  location  district\n",
       "0       3.0  57.0    4.0         4.0       1.0       1.0\n",
       "1       2.0  52.0    4.0         5.0       2.0       2.0\n",
       "2       2.0  42.0    4.0         4.0       3.0       3.0\n",
       "3       3.0  65.0    1.0         4.0       4.0       3.0\n",
       "4       3.0  70.0    3.0         5.0       5.0       3.0\n",
       "...     ...   ...    ...         ...       ...       ...\n",
       "7560    1.0  38.0    5.0         5.0     876.0       6.0\n",
       "7561    2.0  49.0    1.0         4.0     264.0       6.0\n",
       "7562    2.0  64.0    3.0         9.0     738.0       8.0\n",
       "7563    1.0  18.0    1.0         4.0     120.0       5.0\n",
       "7564    1.0  30.0    2.0         4.0       6.0       3.0\n",
       "\n",
       "[6853 rows x 6 columns]"
      ]
     },
     "execution_count": 48,
     "metadata": {},
     "output_type": "execute_result"
    }
   ],
   "source": [
    "y = df['price']\n",
    "y\n",
    "df.drop(columns='price', inplace=True)\n",
    "df"
   ]
  },
  {
   "cell_type": "markdown",
   "id": "26bba156",
   "metadata": {},
   "source": [
    "<p style=\"color:#32642D\">We bring the data into one form<br>Приводим данные в единую форму<br>Ma'lumotlarni bir shaklga olib kelamiz</p>\n",
    "\n"
   ]
  },
  {
   "cell_type": "code",
   "execution_count": 49,
   "id": "476fdd81",
   "metadata": {},
   "outputs": [],
   "source": [
    "from sklearn.preprocessing import MinMaxScaler"
   ]
  },
  {
   "cell_type": "code",
   "execution_count": 50,
   "id": "b9403336",
   "metadata": {},
   "outputs": [],
   "source": [
    "min_max_scaler = MinMaxScaler()"
   ]
  },
  {
   "cell_type": "code",
   "execution_count": 53,
   "id": "25b6ef2d",
   "metadata": {},
   "outputs": [
    {
     "data": {
      "text/plain": [
       "array([[3.33333333e-01, 2.10045662e-01, 1.66666667e-01, 1.25000000e-01,\n",
       "        0.00000000e+00, 0.00000000e+00],\n",
       "       [1.66666667e-01, 1.87214612e-01, 1.66666667e-01, 1.66666667e-01,\n",
       "        6.27352572e-04, 9.09090909e-02],\n",
       "       [1.66666667e-01, 1.41552511e-01, 1.66666667e-01, 1.25000000e-01,\n",
       "        1.25470514e-03, 1.81818182e-01],\n",
       "       ...,\n",
       "       [1.66666667e-01, 2.42009132e-01, 1.11111111e-01, 3.33333333e-01,\n",
       "        4.62358846e-01, 6.36363636e-01],\n",
       "       [0.00000000e+00, 3.19634703e-02, 0.00000000e+00, 1.25000000e-01,\n",
       "        7.46549561e-02, 3.63636364e-01],\n",
       "       [0.00000000e+00, 8.67579909e-02, 5.55555556e-02, 1.25000000e-01,\n",
       "        3.13676286e-03, 1.81818182e-01]])"
      ]
     },
     "execution_count": 53,
     "metadata": {},
     "output_type": "execute_result"
    }
   ],
   "source": [
    "x_training = min_max_scaler.fit_transform(df)\n",
    "x_training"
   ]
  },
  {
   "cell_type": "markdown",
   "id": "ec5eca4d",
   "metadata": {},
   "source": [
    "<p style=\"color:#32642D\">We create a model<br>\n",
    "Мы создаем модель<br>\n",
    "Model yaratamiz</p>"
   ]
  },
  {
   "cell_type": "code",
   "execution_count": 54,
   "id": "1400d1d4",
   "metadata": {},
   "outputs": [],
   "source": [
    "from sklearn.linear_model import LinearRegression\n",
    "LR_model = LinearRegression()"
   ]
  },
  {
   "cell_type": "markdown",
   "id": "47a689fe",
   "metadata": {},
   "source": [
    "<p style=\"color:#32642D\">We give the values to the model<br>\n",
    "Придаем значения модели<br>\n",
    "Qiymatlarni modelga beramiz</p>\n"
   ]
  },
  {
   "cell_type": "code",
   "execution_count": 55,
   "id": "8939ea55",
   "metadata": {},
   "outputs": [
    {
     "data": {
      "text/plain": [
       "LinearRegression()"
      ]
     },
     "execution_count": 55,
     "metadata": {},
     "output_type": "execute_result"
    }
   ],
   "source": [
    "LR_model.fit(x_training, y)"
   ]
  },
  {
   "cell_type": "markdown",
   "id": "ed2c9857",
   "metadata": {},
   "source": [
    "<p style=\"color:#32642D\">We test the model<br>\n",
    "Мы тестируем модель<br>Modelni test qilamiz</p>\n"
   ]
  },
  {
   "cell_type": "code",
   "execution_count": 57,
   "id": "84ce31a6",
   "metadata": {},
   "outputs": [
    {
     "data": {
      "text/html": [
       "<div>\n",
       "<style scoped>\n",
       "    .dataframe tbody tr th:only-of-type {\n",
       "        vertical-align: middle;\n",
       "    }\n",
       "\n",
       "    .dataframe tbody tr th {\n",
       "        vertical-align: top;\n",
       "    }\n",
       "\n",
       "    .dataframe thead th {\n",
       "        text-align: right;\n",
       "    }\n",
       "</style>\n",
       "<table border=\"1\" class=\"dataframe\">\n",
       "  <thead>\n",
       "    <tr style=\"text-align: right;\">\n",
       "      <th></th>\n",
       "      <th>rooms</th>\n",
       "      <th>size</th>\n",
       "      <th>level</th>\n",
       "      <th>max_levels</th>\n",
       "      <th>location</th>\n",
       "      <th>district</th>\n",
       "    </tr>\n",
       "  </thead>\n",
       "  <tbody>\n",
       "    <tr>\n",
       "      <th>6327</th>\n",
       "      <td>2.0</td>\n",
       "      <td>58.0</td>\n",
       "      <td>10.0</td>\n",
       "      <td>12.0</td>\n",
       "      <td>28.0</td>\n",
       "      <td>4.0</td>\n",
       "    </tr>\n",
       "    <tr>\n",
       "      <th>2462</th>\n",
       "      <td>2.0</td>\n",
       "      <td>62.0</td>\n",
       "      <td>9.0</td>\n",
       "      <td>12.0</td>\n",
       "      <td>202.0</td>\n",
       "      <td>7.0</td>\n",
       "    </tr>\n",
       "    <tr>\n",
       "      <th>82</th>\n",
       "      <td>2.0</td>\n",
       "      <td>45.0</td>\n",
       "      <td>4.0</td>\n",
       "      <td>4.0</td>\n",
       "      <td>6.0</td>\n",
       "      <td>3.0</td>\n",
       "    </tr>\n",
       "    <tr>\n",
       "      <th>646</th>\n",
       "      <td>4.0</td>\n",
       "      <td>112.0</td>\n",
       "      <td>4.0</td>\n",
       "      <td>5.0</td>\n",
       "      <td>312.0</td>\n",
       "      <td>2.0</td>\n",
       "    </tr>\n",
       "    <tr>\n",
       "      <th>5476</th>\n",
       "      <td>3.0</td>\n",
       "      <td>75.0</td>\n",
       "      <td>6.0</td>\n",
       "      <td>9.0</td>\n",
       "      <td>116.0</td>\n",
       "      <td>7.0</td>\n",
       "    </tr>\n",
       "    <tr>\n",
       "      <th>...</th>\n",
       "      <td>...</td>\n",
       "      <td>...</td>\n",
       "      <td>...</td>\n",
       "      <td>...</td>\n",
       "      <td>...</td>\n",
       "      <td>...</td>\n",
       "    </tr>\n",
       "    <tr>\n",
       "      <th>2392</th>\n",
       "      <td>1.0</td>\n",
       "      <td>42.0</td>\n",
       "      <td>4.0</td>\n",
       "      <td>5.0</td>\n",
       "      <td>267.0</td>\n",
       "      <td>9.0</td>\n",
       "    </tr>\n",
       "    <tr>\n",
       "      <th>4421</th>\n",
       "      <td>3.0</td>\n",
       "      <td>110.0</td>\n",
       "      <td>7.0</td>\n",
       "      <td>9.0</td>\n",
       "      <td>207.0</td>\n",
       "      <td>7.0</td>\n",
       "    </tr>\n",
       "    <tr>\n",
       "      <th>2921</th>\n",
       "      <td>3.0</td>\n",
       "      <td>70.0</td>\n",
       "      <td>1.0</td>\n",
       "      <td>4.0</td>\n",
       "      <td>120.0</td>\n",
       "      <td>5.0</td>\n",
       "    </tr>\n",
       "    <tr>\n",
       "      <th>3671</th>\n",
       "      <td>1.0</td>\n",
       "      <td>37.0</td>\n",
       "      <td>3.0</td>\n",
       "      <td>4.0</td>\n",
       "      <td>82.0</td>\n",
       "      <td>1.0</td>\n",
       "    </tr>\n",
       "    <tr>\n",
       "      <th>1089</th>\n",
       "      <td>3.0</td>\n",
       "      <td>70.0</td>\n",
       "      <td>5.0</td>\n",
       "      <td>5.0</td>\n",
       "      <td>152.0</td>\n",
       "      <td>1.0</td>\n",
       "    </tr>\n",
       "  </tbody>\n",
       "</table>\n",
       "<p>1371 rows × 6 columns</p>\n",
       "</div>"
      ],
      "text/plain": [
       "      rooms   size  level  max_levels  location  district\n",
       "6327    2.0   58.0   10.0        12.0      28.0       4.0\n",
       "2462    2.0   62.0    9.0        12.0     202.0       7.0\n",
       "82      2.0   45.0    4.0         4.0       6.0       3.0\n",
       "646     4.0  112.0    4.0         5.0     312.0       2.0\n",
       "5476    3.0   75.0    6.0         9.0     116.0       7.0\n",
       "...     ...    ...    ...         ...       ...       ...\n",
       "2392    1.0   42.0    4.0         5.0     267.0       9.0\n",
       "4421    3.0  110.0    7.0         9.0     207.0       7.0\n",
       "2921    3.0   70.0    1.0         4.0     120.0       5.0\n",
       "3671    1.0   37.0    3.0         4.0      82.0       1.0\n",
       "1089    3.0   70.0    5.0         5.0     152.0       1.0\n",
       "\n",
       "[1371 rows x 6 columns]"
      ]
     },
     "execution_count": 57,
     "metadata": {},
     "output_type": "execute_result"
    }
   ],
   "source": [
    "y_test_set = test_set['price']\n",
    "test_set.drop(columns='price', inplace=True)\n",
    "test_set"
   ]
  },
  {
   "cell_type": "code",
   "execution_count": 58,
   "id": "eaf688ba",
   "metadata": {},
   "outputs": [
    {
     "data": {
      "text/plain": [
       "6327     36000.0\n",
       "2462     53000.0\n",
       "82       45000.0\n",
       "646     146500.0\n",
       "5476     60000.0\n",
       "          ...   \n",
       "2392     22800.0\n",
       "4421     70000.0\n",
       "2921     72500.0\n",
       "3671     31000.0\n",
       "1089     40000.0\n",
       "Name: price, Length: 1371, dtype: float64"
      ]
     },
     "execution_count": 58,
     "metadata": {},
     "output_type": "execute_result"
    }
   ],
   "source": [
    "test_label = y.loc[test_set.index]\n",
    "test_label"
   ]
  },
  {
   "cell_type": "code",
   "execution_count": 60,
   "id": "f4f5cdcd",
   "metadata": {},
   "outputs": [
    {
     "data": {
      "text/plain": [
       "array([[0.16666667, 0.20722529, 0.6       , 0.45833333, 0.0170347 ,\n",
       "        0.27272727],\n",
       "       [0.16666667, 0.22729553, 0.53333333, 0.45833333, 0.12681388,\n",
       "        0.54545455],\n",
       "       [0.16666667, 0.14199699, 0.2       , 0.125     , 0.00315457,\n",
       "        0.18181818],\n",
       "       ...,\n",
       "       [0.33333333, 0.26743603, 0.        , 0.125     , 0.07507886,\n",
       "        0.36363636],\n",
       "       [0.        , 0.1018565 , 0.13333333, 0.125     , 0.0511041 ,\n",
       "        0.        ],\n",
       "       [0.33333333, 0.26743603, 0.26666667, 0.16666667, 0.09526814,\n",
       "        0.        ]])"
      ]
     },
     "execution_count": 60,
     "metadata": {},
     "output_type": "execute_result"
    }
   ],
   "source": [
    "test_data = min_max_scaler.fit_transform(test_set)\n",
    "test_data"
   ]
  },
  {
   "cell_type": "code",
   "execution_count": 61,
   "id": "b8214dbc",
   "metadata": {},
   "outputs": [
    {
     "data": {
      "text/plain": [
       "array([39256.5639877 , 43120.61411687, 32093.42959034, ...,\n",
       "       55122.99435498, 26081.77318702, 49842.82557365])"
      ]
     },
     "execution_count": 61,
     "metadata": {},
     "output_type": "execute_result"
    }
   ],
   "source": [
    "predict = LR_model.predict(test_data)\n",
    "predict"
   ]
  },
  {
   "cell_type": "markdown",
   "id": "8d1b24da",
   "metadata": {},
   "source": [
    "<p style=\"color:#32642D\">Let's get acquainted with the test results<br>\n",
    "Знакомимся с результатами<br>\n",
    "Test natijalari bilan tanishamiz</p>"
   ]
  },
  {
   "cell_type": "code",
   "execution_count": 65,
   "id": "33493b84",
   "metadata": {},
   "outputs": [
    {
     "data": {
      "text/html": [
       "<div>\n",
       "<style scoped>\n",
       "    .dataframe tbody tr th:only-of-type {\n",
       "        vertical-align: middle;\n",
       "    }\n",
       "\n",
       "    .dataframe tbody tr th {\n",
       "        vertical-align: top;\n",
       "    }\n",
       "\n",
       "    .dataframe thead th {\n",
       "        text-align: right;\n",
       "    }\n",
       "</style>\n",
       "<table border=\"1\" class=\"dataframe\">\n",
       "  <thead>\n",
       "    <tr style=\"text-align: right;\">\n",
       "      <th></th>\n",
       "      <th>prediction</th>\n",
       "      <th>default value</th>\n",
       "    </tr>\n",
       "  </thead>\n",
       "  <tbody>\n",
       "    <tr>\n",
       "      <th>6327</th>\n",
       "      <td>39256.563988</td>\n",
       "      <td>36000.0</td>\n",
       "    </tr>\n",
       "    <tr>\n",
       "      <th>2462</th>\n",
       "      <td>43120.614117</td>\n",
       "      <td>53000.0</td>\n",
       "    </tr>\n",
       "    <tr>\n",
       "      <th>82</th>\n",
       "      <td>32093.429590</td>\n",
       "      <td>45000.0</td>\n",
       "    </tr>\n",
       "    <tr>\n",
       "      <th>646</th>\n",
       "      <td>80326.683879</td>\n",
       "      <td>146500.0</td>\n",
       "    </tr>\n",
       "    <tr>\n",
       "      <th>5476</th>\n",
       "      <td>55568.843077</td>\n",
       "      <td>60000.0</td>\n",
       "    </tr>\n",
       "    <tr>\n",
       "      <th>...</th>\n",
       "      <td>...</td>\n",
       "      <td>...</td>\n",
       "    </tr>\n",
       "    <tr>\n",
       "      <th>2392</th>\n",
       "      <td>28230.723888</td>\n",
       "      <td>22800.0</td>\n",
       "    </tr>\n",
       "    <tr>\n",
       "      <th>4421</th>\n",
       "      <td>75904.473792</td>\n",
       "      <td>70000.0</td>\n",
       "    </tr>\n",
       "    <tr>\n",
       "      <th>2921</th>\n",
       "      <td>55122.994355</td>\n",
       "      <td>72500.0</td>\n",
       "    </tr>\n",
       "    <tr>\n",
       "      <th>3671</th>\n",
       "      <td>26081.773187</td>\n",
       "      <td>31000.0</td>\n",
       "    </tr>\n",
       "    <tr>\n",
       "      <th>1089</th>\n",
       "      <td>49842.825574</td>\n",
       "      <td>40000.0</td>\n",
       "    </tr>\n",
       "  </tbody>\n",
       "</table>\n",
       "<p>1371 rows × 2 columns</p>\n",
       "</div>"
      ],
      "text/plain": [
       "        prediction  default value\n",
       "6327  39256.563988        36000.0\n",
       "2462  43120.614117        53000.0\n",
       "82    32093.429590        45000.0\n",
       "646   80326.683879       146500.0\n",
       "5476  55568.843077        60000.0\n",
       "...            ...            ...\n",
       "2392  28230.723888        22800.0\n",
       "4421  75904.473792        70000.0\n",
       "2921  55122.994355        72500.0\n",
       "3671  26081.773187        31000.0\n",
       "1089  49842.825574        40000.0\n",
       "\n",
       "[1371 rows x 2 columns]"
      ]
     },
     "execution_count": 65,
     "metadata": {},
     "output_type": "execute_result"
    }
   ],
   "source": [
    "\n",
    "pd.DataFrame({\"prediction\": predict, \"default value\": test_label})"
   ]
  },
  {
   "cell_type": "markdown",
   "id": "7bd04111",
   "metadata": {},
   "source": [
    "<p style=\"color:#32642D\">We calculate the average error made by our model<br>\n",
    "Мы рассчитываем среднюю ошибку, допущенную нашей моделью<br>\n",
    "Modelimiz qilgan o'rtacha xatolikni hisoblaymiz</p>\n"
   ]
  },
  {
   "cell_type": "code",
   "execution_count": 76,
   "id": "4d2d9ab8",
   "metadata": {},
   "outputs": [
    {
     "data": {
      "text/plain": [
       "11815.117017111012"
      ]
     },
     "execution_count": 76,
     "metadata": {},
     "output_type": "execute_result"
    }
   ],
   "source": [
    "from sklearn.metrics import mean_absolute_error\n",
    "mar = mean_absolute_error(test_label, predict)\n",
    "mar"
   ]
  },
  {
   "cell_type": "code",
   "execution_count": 77,
   "id": "d1424af7",
   "metadata": {},
   "outputs": [
    {
     "name": "stdout",
     "output_type": "stream",
     "text": [
      "Average absolute error = 11815.117017111012\n"
     ]
    }
   ],
   "source": [
    "print(f\"Average absolute error = {mar}\")"
   ]
  },
  {
   "cell_type": "code",
   "execution_count": null,
   "id": "61db2bdf",
   "metadata": {},
   "outputs": [],
   "source": []
  }
 ],
 "metadata": {
  "kernelspec": {
   "display_name": "Python 3 (ipykernel)",
   "language": "python",
   "name": "python3"
  },
  "language_info": {
   "codemirror_mode": {
    "name": "ipython",
    "version": 3
   },
   "file_extension": ".py",
   "mimetype": "text/x-python",
   "name": "python",
   "nbconvert_exporter": "python",
   "pygments_lexer": "ipython3",
   "version": "3.9.7"
  }
 },
 "nbformat": 4,
 "nbformat_minor": 5
}
